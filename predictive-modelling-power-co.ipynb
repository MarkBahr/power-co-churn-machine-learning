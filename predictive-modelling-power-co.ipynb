{
 "cells": [
  {
   "cell_type": "markdown",
   "metadata": {
    "id": "c4noH7q4USKQ"
   },
   "source": [
    "# Modelling\n",
    "\n",
    "---\n",
    "\n",
    "1. Import packages\n",
    "2. Load data\n",
    "3. Modelling\n",
    "Below, under Model Training, we explain the rationale for the training \n",
    "---\n",
    "\n",
    "## 1. Import packages"
   ]
  },
  {
   "cell_type": "code",
   "execution_count": 1,
   "metadata": {
    "id": "NwE6osQpUSKS"
   },
   "outputs": [],
   "source": [
    "import warnings\n",
    "warnings.filterwarnings(\"ignore\", category=FutureWarning)"
   ]
  },
  {
   "cell_type": "code",
   "execution_count": 2,
   "metadata": {
    "id": "cm3WmjAZUSKT"
   },
   "outputs": [
    {
     "name": "stderr",
     "output_type": "stream",
     "text": [
      "C:\\Users\\Admin\\AppData\\Local\\Temp\\ipykernel_8676\\1986948091.py:1: DeprecationWarning: \n",
      "Pyarrow will become a required dependency of pandas in the next major release of pandas (pandas 3.0),\n",
      "(to allow more performant data types, such as the Arrow string type, and better interoperability with other libraries)\n",
      "but was not found to be installed on your system.\n",
      "If this would cause problems for you,\n",
      "please provide us feedback at https://github.com/pandas-dev/pandas/issues/54466\n",
      "        \n",
      "  import pandas as pd\n"
     ]
    }
   ],
   "source": [
    "import pandas as pd\n",
    "import numpy as np\n",
    "import seaborn as sns\n",
    "from datetime import datetime\n",
    "import matplotlib.pyplot as plt\n",
    "\n",
    "# Shows plots in jupyter notebook\n",
    "%matplotlib inline\n",
    "\n",
    "# Set plot style\n",
    "sns.set(color_codes=True)"
   ]
  },
  {
   "cell_type": "markdown",
   "metadata": {
    "id": "sewogUFaUSKU"
   },
   "source": [
    "---\n",
    "## 2. Load data"
   ]
  },
  {
   "cell_type": "code",
   "execution_count": 3,
   "metadata": {
    "id": "oaIJfXJjUSKU",
    "outputId": "c218e74d-f4bb-4150-b1e3-22d38d83fc07"
   },
   "outputs": [
    {
     "data": {
      "text/html": [
       "<div>\n",
       "<style scoped>\n",
       "    .dataframe tbody tr th:only-of-type {\n",
       "        vertical-align: middle;\n",
       "    }\n",
       "\n",
       "    .dataframe tbody tr th {\n",
       "        vertical-align: top;\n",
       "    }\n",
       "\n",
       "    .dataframe thead th {\n",
       "        text-align: right;\n",
       "    }\n",
       "</style>\n",
       "<table border=\"1\" class=\"dataframe\">\n",
       "  <thead>\n",
       "    <tr style=\"text-align: right;\">\n",
       "      <th></th>\n",
       "      <th>id</th>\n",
       "      <th>cons_12m</th>\n",
       "      <th>cons_gas_12m</th>\n",
       "      <th>cons_last_month</th>\n",
       "      <th>forecast_cons_12m</th>\n",
       "      <th>forecast_discount_energy</th>\n",
       "      <th>forecast_meter_rent_12m</th>\n",
       "      <th>forecast_price_energy_off_peak</th>\n",
       "      <th>forecast_price_energy_peak</th>\n",
       "      <th>forecast_price_pow_off_peak</th>\n",
       "      <th>...</th>\n",
       "      <th>months_modif_prod</th>\n",
       "      <th>months_renewal</th>\n",
       "      <th>channel_MISSING</th>\n",
       "      <th>channel_ewpakwlliwisiwduibdlfmalxowmwpci</th>\n",
       "      <th>channel_foosdfpfkusacimwkcsosbicdxkicaua</th>\n",
       "      <th>channel_lmkebamcaaclubfxadlmueccxoimlema</th>\n",
       "      <th>channel_usilxuppasemubllopkaafesmlibmsdf</th>\n",
       "      <th>origin_up_kamkkxfxxuwbdslkwifmmcsiusiuosws</th>\n",
       "      <th>origin_up_ldkssxwpmemidmecebumciepifcamkci</th>\n",
       "      <th>origin_up_lxidpiddsbxsbosboudacockeimpuepw</th>\n",
       "    </tr>\n",
       "  </thead>\n",
       "  <tbody>\n",
       "    <tr>\n",
       "      <th>0</th>\n",
       "      <td>24011ae4ebbe3035111d65fa7c15bc57</td>\n",
       "      <td>0.000000</td>\n",
       "      <td>4.739944</td>\n",
       "      <td>0.000000</td>\n",
       "      <td>0.000000</td>\n",
       "      <td>0.0</td>\n",
       "      <td>0.444045</td>\n",
       "      <td>0.114481</td>\n",
       "      <td>0.098142</td>\n",
       "      <td>40.606701</td>\n",
       "      <td>...</td>\n",
       "      <td>2</td>\n",
       "      <td>6</td>\n",
       "      <td>0</td>\n",
       "      <td>0</td>\n",
       "      <td>1</td>\n",
       "      <td>0</td>\n",
       "      <td>0</td>\n",
       "      <td>0</td>\n",
       "      <td>0</td>\n",
       "      <td>1</td>\n",
       "    </tr>\n",
       "    <tr>\n",
       "      <th>1</th>\n",
       "      <td>d29c2c54acc38ff3c0614d0a653813dd</td>\n",
       "      <td>3.668479</td>\n",
       "      <td>0.000000</td>\n",
       "      <td>0.000000</td>\n",
       "      <td>2.280920</td>\n",
       "      <td>0.0</td>\n",
       "      <td>1.237292</td>\n",
       "      <td>0.145711</td>\n",
       "      <td>0.000000</td>\n",
       "      <td>44.311378</td>\n",
       "      <td>...</td>\n",
       "      <td>76</td>\n",
       "      <td>4</td>\n",
       "      <td>1</td>\n",
       "      <td>0</td>\n",
       "      <td>0</td>\n",
       "      <td>0</td>\n",
       "      <td>0</td>\n",
       "      <td>1</td>\n",
       "      <td>0</td>\n",
       "      <td>0</td>\n",
       "    </tr>\n",
       "    <tr>\n",
       "      <th>2</th>\n",
       "      <td>764c75f661154dac3a6c254cd082ea7d</td>\n",
       "      <td>2.736397</td>\n",
       "      <td>0.000000</td>\n",
       "      <td>0.000000</td>\n",
       "      <td>1.689841</td>\n",
       "      <td>0.0</td>\n",
       "      <td>1.599009</td>\n",
       "      <td>0.165794</td>\n",
       "      <td>0.087899</td>\n",
       "      <td>44.311378</td>\n",
       "      <td>...</td>\n",
       "      <td>68</td>\n",
       "      <td>8</td>\n",
       "      <td>0</td>\n",
       "      <td>0</td>\n",
       "      <td>1</td>\n",
       "      <td>0</td>\n",
       "      <td>0</td>\n",
       "      <td>1</td>\n",
       "      <td>0</td>\n",
       "      <td>0</td>\n",
       "    </tr>\n",
       "    <tr>\n",
       "      <th>3</th>\n",
       "      <td>bba03439a292a1e166f80264c16191cb</td>\n",
       "      <td>3.200029</td>\n",
       "      <td>0.000000</td>\n",
       "      <td>0.000000</td>\n",
       "      <td>2.382089</td>\n",
       "      <td>0.0</td>\n",
       "      <td>1.318689</td>\n",
       "      <td>0.146694</td>\n",
       "      <td>0.000000</td>\n",
       "      <td>44.311378</td>\n",
       "      <td>...</td>\n",
       "      <td>69</td>\n",
       "      <td>9</td>\n",
       "      <td>0</td>\n",
       "      <td>0</td>\n",
       "      <td>0</td>\n",
       "      <td>1</td>\n",
       "      <td>0</td>\n",
       "      <td>1</td>\n",
       "      <td>0</td>\n",
       "      <td>0</td>\n",
       "    </tr>\n",
       "    <tr>\n",
       "      <th>4</th>\n",
       "      <td>149d57cf92fc41cf94415803a877cb4b</td>\n",
       "      <td>3.646011</td>\n",
       "      <td>0.000000</td>\n",
       "      <td>2.721811</td>\n",
       "      <td>2.650065</td>\n",
       "      <td>0.0</td>\n",
       "      <td>2.122969</td>\n",
       "      <td>0.116900</td>\n",
       "      <td>0.100015</td>\n",
       "      <td>40.606701</td>\n",
       "      <td>...</td>\n",
       "      <td>71</td>\n",
       "      <td>9</td>\n",
       "      <td>1</td>\n",
       "      <td>0</td>\n",
       "      <td>0</td>\n",
       "      <td>0</td>\n",
       "      <td>0</td>\n",
       "      <td>1</td>\n",
       "      <td>0</td>\n",
       "      <td>0</td>\n",
       "    </tr>\n",
       "  </tbody>\n",
       "</table>\n",
       "<p>5 rows × 63 columns</p>\n",
       "</div>"
      ],
      "text/plain": [
       "                                 id  cons_12m  cons_gas_12m  cons_last_month  \\\n",
       "0  24011ae4ebbe3035111d65fa7c15bc57  0.000000      4.739944         0.000000   \n",
       "1  d29c2c54acc38ff3c0614d0a653813dd  3.668479      0.000000         0.000000   \n",
       "2  764c75f661154dac3a6c254cd082ea7d  2.736397      0.000000         0.000000   \n",
       "3  bba03439a292a1e166f80264c16191cb  3.200029      0.000000         0.000000   \n",
       "4  149d57cf92fc41cf94415803a877cb4b  3.646011      0.000000         2.721811   \n",
       "\n",
       "   forecast_cons_12m  forecast_discount_energy  forecast_meter_rent_12m  \\\n",
       "0           0.000000                       0.0                 0.444045   \n",
       "1           2.280920                       0.0                 1.237292   \n",
       "2           1.689841                       0.0                 1.599009   \n",
       "3           2.382089                       0.0                 1.318689   \n",
       "4           2.650065                       0.0                 2.122969   \n",
       "\n",
       "   forecast_price_energy_off_peak  forecast_price_energy_peak  \\\n",
       "0                        0.114481                    0.098142   \n",
       "1                        0.145711                    0.000000   \n",
       "2                        0.165794                    0.087899   \n",
       "3                        0.146694                    0.000000   \n",
       "4                        0.116900                    0.100015   \n",
       "\n",
       "   forecast_price_pow_off_peak  ...  months_modif_prod  months_renewal  \\\n",
       "0                    40.606701  ...                  2               6   \n",
       "1                    44.311378  ...                 76               4   \n",
       "2                    44.311378  ...                 68               8   \n",
       "3                    44.311378  ...                 69               9   \n",
       "4                    40.606701  ...                 71               9   \n",
       "\n",
       "   channel_MISSING  channel_ewpakwlliwisiwduibdlfmalxowmwpci  \\\n",
       "0                0                                         0   \n",
       "1                1                                         0   \n",
       "2                0                                         0   \n",
       "3                0                                         0   \n",
       "4                1                                         0   \n",
       "\n",
       "   channel_foosdfpfkusacimwkcsosbicdxkicaua  \\\n",
       "0                                         1   \n",
       "1                                         0   \n",
       "2                                         1   \n",
       "3                                         0   \n",
       "4                                         0   \n",
       "\n",
       "   channel_lmkebamcaaclubfxadlmueccxoimlema  \\\n",
       "0                                         0   \n",
       "1                                         0   \n",
       "2                                         0   \n",
       "3                                         1   \n",
       "4                                         0   \n",
       "\n",
       "   channel_usilxuppasemubllopkaafesmlibmsdf  \\\n",
       "0                                         0   \n",
       "1                                         0   \n",
       "2                                         0   \n",
       "3                                         0   \n",
       "4                                         0   \n",
       "\n",
       "   origin_up_kamkkxfxxuwbdslkwifmmcsiusiuosws  \\\n",
       "0                                           0   \n",
       "1                                           1   \n",
       "2                                           1   \n",
       "3                                           1   \n",
       "4                                           1   \n",
       "\n",
       "   origin_up_ldkssxwpmemidmecebumciepifcamkci  \\\n",
       "0                                           0   \n",
       "1                                           0   \n",
       "2                                           0   \n",
       "3                                           0   \n",
       "4                                           0   \n",
       "\n",
       "   origin_up_lxidpiddsbxsbosboudacockeimpuepw  \n",
       "0                                           1  \n",
       "1                                           0  \n",
       "2                                           0  \n",
       "3                                           0  \n",
       "4                                           0  \n",
       "\n",
       "[5 rows x 63 columns]"
      ]
     },
     "execution_count": 3,
     "metadata": {},
     "output_type": "execute_result"
    }
   ],
   "source": [
    "df = pd.read_csv('./data-for-predictions.csv')\n",
    "df.drop(columns=[\"Unnamed: 0\"], inplace=True)\n",
    "df.head()"
   ]
  },
  {
   "cell_type": "markdown",
   "metadata": {
    "id": "N2gjvbtCUSKV"
   },
   "source": [
    "---\n",
    "\n",
    "## 3. Modelling\n",
    "\n",
    "We now have a dataset containing features that we have engineered and we are ready to start training a predictive model. Remember, we only need to focus on training a `Random Forest` classifier."
   ]
  },
  {
   "cell_type": "code",
   "execution_count": 4,
   "metadata": {
    "id": "cPHZWHC8USKV"
   },
   "outputs": [],
   "source": [
    "from sklearn import metrics\n",
    "from sklearn.model_selection import train_test_split\n",
    "from sklearn.ensemble import RandomForestClassifier"
   ]
  },
  {
   "cell_type": "markdown",
   "metadata": {
    "id": "PitUvSFhUSKV"
   },
   "source": [
    "### Data sampling\n",
    "\n",
    "The first thing we want to do is split our dataset into training and test samples. The reason why we do this, is so that we can simulate a real life situation by generating predictions for our test sample, without showing the predictive model these data points. This gives us the ability to see how well our model is able to generalise to new data, which is critical.\n",
    "\n",
    "A typical % to dedicate to testing is between 20-30, for this example we will use a 75-25% split between train and test respectively."
   ]
  },
  {
   "cell_type": "code",
   "execution_count": 5,
   "metadata": {},
   "outputs": [],
   "source": [
    "# Make a copy of our data\n",
    "train_df = df.copy()\n",
    "\n",
    "# Separate target variable from independent variables\n",
    "t = df['churn']\n",
    "S = df.drop(columns=['churn'])\n",
    "\n",
    "S_train, S_test, t_train, t_test = train_test_split(S, t, test_size=0.25, random_state=42)"
   ]
  },
  {
   "cell_type": "code",
   "execution_count": 6,
   "metadata": {
    "id": "dstIVhBnUSKW",
    "outputId": "fdc82a65-36c0-4229-d729-161989dccda7"
   },
   "outputs": [
    {
     "name": "stdout",
     "output_type": "stream",
     "text": [
      "(14606, 61)\n",
      "(14606,)\n"
     ]
    }
   ],
   "source": [
    "# Make a copy of our data\n",
    "train_df = df.copy()\n",
    "\n",
    "# Separate target variable from independent variables\n",
    "y = df['churn']\n",
    "X = df.drop(columns=['id', 'churn'])\n",
    "print(X.shape)\n",
    "print(y.shape)"
   ]
  },
  {
   "cell_type": "code",
   "execution_count": 7,
   "metadata": {
    "id": "ifim4p1WUSKW",
    "outputId": "d689475d-555c-48d0-a0be-a0fbe812ab47"
   },
   "outputs": [
    {
     "name": "stdout",
     "output_type": "stream",
     "text": [
      "(10954, 61)\n",
      "(10954,)\n",
      "(3652, 61)\n",
      "(3652,)\n"
     ]
    }
   ],
   "source": [
    "X_train, X_test, y_train, y_test = train_test_split(X, y, test_size=0.25, random_state=42)\n",
    "print(X_train.shape)\n",
    "print(y_train.shape)\n",
    "print(X_test.shape)\n",
    "print(y_test.shape)"
   ]
  },
  {
   "cell_type": "markdown",
   "metadata": {
    "id": "22A_oe_PUSKX"
   },
   "source": [
    "### Model training\n",
    "\n",
    "Once again, we are using a `Random Forest` classifier in this example. A Random Forest sits within the category of `ensemble` algorithms because internally the `Forest` refers to a collection of `Decision Trees` which are tree-based learning algorithms. As the data scientist, you can control how large the forest is (that is, how many decision trees you want to include).\n",
    "\n",
    "The reason why an `ensemble` algorithm is powerful is because of the laws of averaging, weak learners and the central limit theorem. If we take a single decision tree and give it a sample of data and some parameters, it will learn patterns from the data. It may be overfit or it may be underfit, but that is now our only hope, that single algorithm. \n",
    "\n",
    "With `ensemble` methods, instead of banking on 1 single trained model, we can train 1000's of decision trees, all using different splits of the data and learning different patterns. It would be like asking 1000 people to all learn how to code. You would end up with 1000 people with different answers, methods and styles! The weak learner notion applies here too, it has been found that if you train your learners not to overfit, but to learn weak patterns within the data and you have a lot of these weak learners, together they come together to form a highly predictive pool of knowledge! This is a real life application of many brains are better than 1.\n",
    "\n",
    "Now instead of relying on 1 single decision tree for prediction, the random forest puts it to the overall views of the entire collection of decision trees. Some ensemble algorithms using a voting approach to decide which prediction is best, others using averaging. \n",
    "\n",
    "As we increase the number of learners, the idea is that the random forest's performance should converge to its best possible solution.\n",
    "\n",
    "Some additional advantages of the random forest classifier include:\n",
    "\n",
    "- The random forest uses a rule-based approach instead of a distance calculation and so features do not need to be scaled\n",
    "- It is able to handle non-linear parameters better than linear based models\n",
    "\n",
    "On the flip side, some disadvantages of the random forest classifier include:\n",
    "\n",
    "- The computational power needed to train a random forest on a large dataset is high, since we need to build a whole ensemble of estimators.\n",
    "- Training time can be longer due to the increased complexity and size of thee ensemble"
   ]
  },
  {
   "cell_type": "markdown",
   "metadata": {},
   "source": [
    "### Check for Correlation Between Features\r\n",
    "During feature engineering and exploratory data analysis, we were able to determine which features may likely have had a better influence on churn than other features. We did this by using correlation, proportions of customers who churned, or changes in price category. Those features are included in the list below. Yet first, we need to make sure that we do not include features that are highly correlated to each other in order to avoid multicollinearity. "
   ]
  },
  {
   "cell_type": "code",
   "execution_count": 8,
   "metadata": {
    "scrolled": true
   },
   "outputs": [
    {
     "data": {
      "text/html": [
       "<div>\n",
       "<style scoped>\n",
       "    .dataframe tbody tr th:only-of-type {\n",
       "        vertical-align: middle;\n",
       "    }\n",
       "\n",
       "    .dataframe tbody tr th {\n",
       "        vertical-align: top;\n",
       "    }\n",
       "\n",
       "    .dataframe thead th {\n",
       "        text-align: right;\n",
       "    }\n",
       "</style>\n",
       "<table border=\"1\" class=\"dataframe\">\n",
       "  <thead>\n",
       "    <tr style=\"text-align: right;\">\n",
       "      <th></th>\n",
       "      <th>margin_net_pow_ele</th>\n",
       "      <th>months_activ</th>\n",
       "      <th>peak_mid_peak_fix_max_monthly_diff</th>\n",
       "      <th>forecast_cons_12m</th>\n",
       "      <th>var_year_price_off_peak_var</th>\n",
       "      <th>has_gas</th>\n",
       "      <th>origin_up_kamkkxfxxuwbdslkwifmmcsiusiuosws</th>\n",
       "      <th>channel_lmkebamcaaclubfxadlmueccxoimlema</th>\n",
       "    </tr>\n",
       "  </thead>\n",
       "  <tbody>\n",
       "    <tr>\n",
       "      <th>margin_net_pow_ele</th>\n",
       "      <td>1.000000</td>\n",
       "      <td>-0.087021</td>\n",
       "      <td>0.083297</td>\n",
       "      <td>-0.112208</td>\n",
       "      <td>0.213897</td>\n",
       "      <td>-0.013686</td>\n",
       "      <td>-0.037700</td>\n",
       "      <td>-0.021675</td>\n",
       "    </tr>\n",
       "    <tr>\n",
       "      <th>months_activ</th>\n",
       "      <td>-0.087021</td>\n",
       "      <td>1.000000</td>\n",
       "      <td>0.097402</td>\n",
       "      <td>-0.068360</td>\n",
       "      <td>-0.043197</td>\n",
       "      <td>0.010476</td>\n",
       "      <td>0.210361</td>\n",
       "      <td>0.032742</td>\n",
       "    </tr>\n",
       "    <tr>\n",
       "      <th>peak_mid_peak_fix_max_monthly_diff</th>\n",
       "      <td>0.083297</td>\n",
       "      <td>0.097402</td>\n",
       "      <td>1.000000</td>\n",
       "      <td>0.108912</td>\n",
       "      <td>0.015849</td>\n",
       "      <td>0.045451</td>\n",
       "      <td>-0.122911</td>\n",
       "      <td>-0.000260</td>\n",
       "    </tr>\n",
       "    <tr>\n",
       "      <th>forecast_cons_12m</th>\n",
       "      <td>-0.112208</td>\n",
       "      <td>-0.068360</td>\n",
       "      <td>0.108912</td>\n",
       "      <td>1.000000</td>\n",
       "      <td>-0.031742</td>\n",
       "      <td>0.097484</td>\n",
       "      <td>-0.029880</td>\n",
       "      <td>0.082157</td>\n",
       "    </tr>\n",
       "    <tr>\n",
       "      <th>var_year_price_off_peak_var</th>\n",
       "      <td>0.213897</td>\n",
       "      <td>-0.043197</td>\n",
       "      <td>0.015849</td>\n",
       "      <td>-0.031742</td>\n",
       "      <td>1.000000</td>\n",
       "      <td>0.004239</td>\n",
       "      <td>-0.020142</td>\n",
       "      <td>-0.015420</td>\n",
       "    </tr>\n",
       "    <tr>\n",
       "      <th>has_gas</th>\n",
       "      <td>-0.013686</td>\n",
       "      <td>0.010476</td>\n",
       "      <td>0.045451</td>\n",
       "      <td>0.097484</td>\n",
       "      <td>0.004239</td>\n",
       "      <td>1.000000</td>\n",
       "      <td>-0.013412</td>\n",
       "      <td>0.034512</td>\n",
       "    </tr>\n",
       "    <tr>\n",
       "      <th>origin_up_kamkkxfxxuwbdslkwifmmcsiusiuosws</th>\n",
       "      <td>-0.037700</td>\n",
       "      <td>0.210361</td>\n",
       "      <td>-0.122911</td>\n",
       "      <td>-0.029880</td>\n",
       "      <td>-0.020142</td>\n",
       "      <td>-0.013412</td>\n",
       "      <td>1.000000</td>\n",
       "      <td>0.184581</td>\n",
       "    </tr>\n",
       "    <tr>\n",
       "      <th>channel_lmkebamcaaclubfxadlmueccxoimlema</th>\n",
       "      <td>-0.021675</td>\n",
       "      <td>0.032742</td>\n",
       "      <td>-0.000260</td>\n",
       "      <td>0.082157</td>\n",
       "      <td>-0.015420</td>\n",
       "      <td>0.034512</td>\n",
       "      <td>0.184581</td>\n",
       "      <td>1.000000</td>\n",
       "    </tr>\n",
       "  </tbody>\n",
       "</table>\n",
       "</div>"
      ],
      "text/plain": [
       "                                            margin_net_pow_ele  months_activ  \\\n",
       "margin_net_pow_ele                                    1.000000     -0.087021   \n",
       "months_activ                                         -0.087021      1.000000   \n",
       "peak_mid_peak_fix_max_monthly_diff                    0.083297      0.097402   \n",
       "forecast_cons_12m                                    -0.112208     -0.068360   \n",
       "var_year_price_off_peak_var                           0.213897     -0.043197   \n",
       "has_gas                                              -0.013686      0.010476   \n",
       "origin_up_kamkkxfxxuwbdslkwifmmcsiusiuosws           -0.037700      0.210361   \n",
       "channel_lmkebamcaaclubfxadlmueccxoimlema             -0.021675      0.032742   \n",
       "\n",
       "                                            peak_mid_peak_fix_max_monthly_diff  \\\n",
       "margin_net_pow_ele                                                    0.083297   \n",
       "months_activ                                                          0.097402   \n",
       "peak_mid_peak_fix_max_monthly_diff                                    1.000000   \n",
       "forecast_cons_12m                                                     0.108912   \n",
       "var_year_price_off_peak_var                                           0.015849   \n",
       "has_gas                                                               0.045451   \n",
       "origin_up_kamkkxfxxuwbdslkwifmmcsiusiuosws                           -0.122911   \n",
       "channel_lmkebamcaaclubfxadlmueccxoimlema                             -0.000260   \n",
       "\n",
       "                                            forecast_cons_12m  \\\n",
       "margin_net_pow_ele                                  -0.112208   \n",
       "months_activ                                        -0.068360   \n",
       "peak_mid_peak_fix_max_monthly_diff                   0.108912   \n",
       "forecast_cons_12m                                    1.000000   \n",
       "var_year_price_off_peak_var                         -0.031742   \n",
       "has_gas                                              0.097484   \n",
       "origin_up_kamkkxfxxuwbdslkwifmmcsiusiuosws          -0.029880   \n",
       "channel_lmkebamcaaclubfxadlmueccxoimlema             0.082157   \n",
       "\n",
       "                                            var_year_price_off_peak_var  \\\n",
       "margin_net_pow_ele                                             0.213897   \n",
       "months_activ                                                  -0.043197   \n",
       "peak_mid_peak_fix_max_monthly_diff                             0.015849   \n",
       "forecast_cons_12m                                             -0.031742   \n",
       "var_year_price_off_peak_var                                    1.000000   \n",
       "has_gas                                                        0.004239   \n",
       "origin_up_kamkkxfxxuwbdslkwifmmcsiusiuosws                    -0.020142   \n",
       "channel_lmkebamcaaclubfxadlmueccxoimlema                      -0.015420   \n",
       "\n",
       "                                             has_gas  \\\n",
       "margin_net_pow_ele                         -0.013686   \n",
       "months_activ                                0.010476   \n",
       "peak_mid_peak_fix_max_monthly_diff          0.045451   \n",
       "forecast_cons_12m                           0.097484   \n",
       "var_year_price_off_peak_var                 0.004239   \n",
       "has_gas                                     1.000000   \n",
       "origin_up_kamkkxfxxuwbdslkwifmmcsiusiuosws -0.013412   \n",
       "channel_lmkebamcaaclubfxadlmueccxoimlema    0.034512   \n",
       "\n",
       "                                            origin_up_kamkkxfxxuwbdslkwifmmcsiusiuosws  \\\n",
       "margin_net_pow_ele                                                           -0.037700   \n",
       "months_activ                                                                  0.210361   \n",
       "peak_mid_peak_fix_max_monthly_diff                                           -0.122911   \n",
       "forecast_cons_12m                                                            -0.029880   \n",
       "var_year_price_off_peak_var                                                  -0.020142   \n",
       "has_gas                                                                      -0.013412   \n",
       "origin_up_kamkkxfxxuwbdslkwifmmcsiusiuosws                                    1.000000   \n",
       "channel_lmkebamcaaclubfxadlmueccxoimlema                                      0.184581   \n",
       "\n",
       "                                            channel_lmkebamcaaclubfxadlmueccxoimlema  \n",
       "margin_net_pow_ele                                                         -0.021675  \n",
       "months_activ                                                                0.032742  \n",
       "peak_mid_peak_fix_max_monthly_diff                                         -0.000260  \n",
       "forecast_cons_12m                                                           0.082157  \n",
       "var_year_price_off_peak_var                                                -0.015420  \n",
       "has_gas                                                                     0.034512  \n",
       "origin_up_kamkkxfxxuwbdslkwifmmcsiusiuosws                                  0.184581  \n",
       "channel_lmkebamcaaclubfxadlmueccxoimlema                                    1.000000  "
      ]
     },
     "execution_count": 8,
     "metadata": {},
     "output_type": "execute_result"
    }
   ],
   "source": [
    "# Creat a list of the selected features\n",
    "col_list2 = ['margin_net_pow_ele', 'months_activ', 'peak_mid_peak_fix_max_monthly_diff', 'forecast_cons_12m', 'var_year_price_off_peak_var', 'has_gas', 'origin_up_kamkkxfxxuwbdslkwifmmcsiusiuosws', 'channel_lmkebamcaaclubfxadlmueccxoimlema']\n",
    "\n",
    "# Check for correlation between features\n",
    "X_features = X_train[col_list2]\n",
    "X_features.corr()"
   ]
  },
  {
   "cell_type": "markdown",
   "metadata": {},
   "source": [
    "The highest correlation in the table above is 0.21, so we see that the chosen features are not even moderately correlated one to another. "
   ]
  },
  {
   "cell_type": "markdown",
   "metadata": {},
   "source": [
    "### Reasons for Choosing Metrics\n",
    "\n",
    "Here, we'll explain why we selected the 8 features that we did. Attributes that are moderately or highly correlated are not included together in the model.\n",
    "\n",
    "- ##### Electricity Code Campaigns\n",
    "  The code of electricity campaign to which the client initially subscribed reveals the company's initial desires, and also may relate to how electricity is used or what type of buildings are using electricity. It is important to note the percentages of clients who chuned in each electriciy code campain category. The code campain with the most churn had 12.6% of clients who churned, whereas the code campaign with the least churn had only 5.6% of clients who churned. We'll include the code campain with the most churn in the model. (By the way, there were two code campains that had no churn, but there are only 3 clients with those codes, so those codes were not included in the model.)\n",
    "- ##### Sales Channels\n",
    "  What type of client is most likely to be retained by PowerCo? How should we market to them and why? Answering these are types of questions will lead to choosing a sales channel. The clients from the sales channel with the most churn had a 12% churn rate, but since that correlates moderately with the code campaign just chosen, we'll use the sales channel with the least churn, which is 5.6%. (By the way, there were three sales channels that had no churn, but there are only 14 clients in those sales channels. Accordingly, those sales channels were not included.)\n",
    "- ##### Net Margin on Power Subscription\n",
    "  Net Margin, the percent of profit retained, is crucial to PowerCo's financial gains. It also has a relatively high correlation with customer churn when compared to other metrics.\n",
    "- ##### Months Active\n",
    "  Companies who have been with PowerCo for less than 5 months are much more likely to churn. And those who have been with PowerCo for years are much less likely to churn.\n",
    "- ##### Energy Price During 1st Period\n",
    "  If customers are more likely to churn during the first 4 months, then it would make sense that keeping prices low during that first period would be important. Also, of the original price variables, this price variable has the highest correlation with churn\n",
    "- ##### Maximum Average Price Power Difference\n",
    "  Do significant price hikes ever make you cringe? We found the maximum change in price of power between the 2nd and 3rd periods. It proves to have a higher correlation with churn than the other attributes based on price changes. \n",
    "- ##### Got Gas?\n",
    "  Customers who buy gas from PowerCo are 2% less likely to churn. \n",
    "- ##### Forecasted Electricity Consumption\n",
    "  Companies may be paying attention to their forecasted consumption because it affects how much they'll have to pay. This feature also addresses consumption, which none of our features have addressed up to this point."
   ]
  },
  {
   "cell_type": "markdown",
   "metadata": {},
   "source": [
    "The features seem to be independent.\n",
    "\n",
    "### Create Model\n",
    "\n",
    "So, we'll create our Random Forest model, and train it using our chosen features. "
   ]
  },
  {
   "cell_type": "code",
   "execution_count": 9,
   "metadata": {
    "id": "km_R7pYnUSKX"
   },
   "outputs": [
    {
     "data": {
      "text/html": [
       "<style>#sk-container-id-1 {color: black;}#sk-container-id-1 pre{padding: 0;}#sk-container-id-1 div.sk-toggleable {background-color: white;}#sk-container-id-1 label.sk-toggleable__label {cursor: pointer;display: block;width: 100%;margin-bottom: 0;padding: 0.3em;box-sizing: border-box;text-align: center;}#sk-container-id-1 label.sk-toggleable__label-arrow:before {content: \"▸\";float: left;margin-right: 0.25em;color: #696969;}#sk-container-id-1 label.sk-toggleable__label-arrow:hover:before {color: black;}#sk-container-id-1 div.sk-estimator:hover label.sk-toggleable__label-arrow:before {color: black;}#sk-container-id-1 div.sk-toggleable__content {max-height: 0;max-width: 0;overflow: hidden;text-align: left;background-color: #f0f8ff;}#sk-container-id-1 div.sk-toggleable__content pre {margin: 0.2em;color: black;border-radius: 0.25em;background-color: #f0f8ff;}#sk-container-id-1 input.sk-toggleable__control:checked~div.sk-toggleable__content {max-height: 200px;max-width: 100%;overflow: auto;}#sk-container-id-1 input.sk-toggleable__control:checked~label.sk-toggleable__label-arrow:before {content: \"▾\";}#sk-container-id-1 div.sk-estimator input.sk-toggleable__control:checked~label.sk-toggleable__label {background-color: #d4ebff;}#sk-container-id-1 div.sk-label input.sk-toggleable__control:checked~label.sk-toggleable__label {background-color: #d4ebff;}#sk-container-id-1 input.sk-hidden--visually {border: 0;clip: rect(1px 1px 1px 1px);clip: rect(1px, 1px, 1px, 1px);height: 1px;margin: -1px;overflow: hidden;padding: 0;position: absolute;width: 1px;}#sk-container-id-1 div.sk-estimator {font-family: monospace;background-color: #f0f8ff;border: 1px dotted black;border-radius: 0.25em;box-sizing: border-box;margin-bottom: 0.5em;}#sk-container-id-1 div.sk-estimator:hover {background-color: #d4ebff;}#sk-container-id-1 div.sk-parallel-item::after {content: \"\";width: 100%;border-bottom: 1px solid gray;flex-grow: 1;}#sk-container-id-1 div.sk-label:hover label.sk-toggleable__label {background-color: #d4ebff;}#sk-container-id-1 div.sk-serial::before {content: \"\";position: absolute;border-left: 1px solid gray;box-sizing: border-box;top: 0;bottom: 0;left: 50%;z-index: 0;}#sk-container-id-1 div.sk-serial {display: flex;flex-direction: column;align-items: center;background-color: white;padding-right: 0.2em;padding-left: 0.2em;position: relative;}#sk-container-id-1 div.sk-item {position: relative;z-index: 1;}#sk-container-id-1 div.sk-parallel {display: flex;align-items: stretch;justify-content: center;background-color: white;position: relative;}#sk-container-id-1 div.sk-item::before, #sk-container-id-1 div.sk-parallel-item::before {content: \"\";position: absolute;border-left: 1px solid gray;box-sizing: border-box;top: 0;bottom: 0;left: 50%;z-index: -1;}#sk-container-id-1 div.sk-parallel-item {display: flex;flex-direction: column;z-index: 1;position: relative;background-color: white;}#sk-container-id-1 div.sk-parallel-item:first-child::after {align-self: flex-end;width: 50%;}#sk-container-id-1 div.sk-parallel-item:last-child::after {align-self: flex-start;width: 50%;}#sk-container-id-1 div.sk-parallel-item:only-child::after {width: 0;}#sk-container-id-1 div.sk-dashed-wrapped {border: 1px dashed gray;margin: 0 0.4em 0.5em 0.4em;box-sizing: border-box;padding-bottom: 0.4em;background-color: white;}#sk-container-id-1 div.sk-label label {font-family: monospace;font-weight: bold;display: inline-block;line-height: 1.2em;}#sk-container-id-1 div.sk-label-container {text-align: center;}#sk-container-id-1 div.sk-container {/* jupyter's `normalize.less` sets `[hidden] { display: none; }` but bootstrap.min.css set `[hidden] { display: none !important; }` so we also need the `!important` here to be able to override the default hidden behavior on the sphinx rendered scikit-learn.org. See: https://github.com/scikit-learn/scikit-learn/issues/21755 */display: inline-block !important;position: relative;}#sk-container-id-1 div.sk-text-repr-fallback {display: none;}</style><div id=\"sk-container-id-1\" class=\"sk-top-container\"><div class=\"sk-text-repr-fallback\"><pre>RandomForestClassifier()</pre><b>In a Jupyter environment, please rerun this cell to show the HTML representation or trust the notebook. <br />On GitHub, the HTML representation is unable to render, please try loading this page with nbviewer.org.</b></div><div class=\"sk-container\" hidden><div class=\"sk-item\"><div class=\"sk-estimator sk-toggleable\"><input class=\"sk-toggleable__control sk-hidden--visually\" id=\"sk-estimator-id-1\" type=\"checkbox\" checked><label for=\"sk-estimator-id-1\" class=\"sk-toggleable__label sk-toggleable__label-arrow\">RandomForestClassifier</label><div class=\"sk-toggleable__content\"><pre>RandomForestClassifier()</pre></div></div></div></div></div>"
      ],
      "text/plain": [
       "RandomForestClassifier()"
      ]
     },
     "execution_count": 9,
     "metadata": {},
     "output_type": "execute_result"
    }
   ],
   "source": [
    "# Create Random Forest Model\n",
    "model = RandomForestClassifier()\n",
    "\n",
    "# Fit the model using the selected features\n",
    "model.fit(X_features, y_train)"
   ]
  },
  {
   "cell_type": "markdown",
   "metadata": {
    "id": "bwueFNNZUSKY"
   },
   "source": [
    "### Evaluation\n",
    "\n",
    "Now let's evaluate how well this trained model is able to predict the values of the test dataset. We'll use regular accuracy, and balanced accuracy, since our dataset is imbalanced, as well as precistion and recall. Balanced accuracy is used with binary classifiers when one of the two classes (yes or no) is much more numerous than the other."
   ]
  },
  {
   "cell_type": "markdown",
   "metadata": {},
   "source": [
    "#### Predictions"
   ]
  },
  {
   "cell_type": "code",
   "execution_count": 10,
   "metadata": {
    "id": "ncDbDAcJUSKY"
   },
   "outputs": [],
   "source": [
    "# narrow down to selected feaatures for test data\n",
    "X_test_feat = X_test[col_list2]\n",
    "\n",
    "# Generate predictions\n",
    "y_pred = model.predict(X_test_feat)"
   ]
  },
  {
   "cell_type": "markdown",
   "metadata": {},
   "source": [
    "#### Performance Metrics"
   ]
  },
  {
   "cell_type": "code",
   "execution_count": 11,
   "metadata": {},
   "outputs": [],
   "source": [
    "# Imports for accuracy and ConfusionMatrix\n",
    "from sklearn.metrics import accuracy_score, balanced_accuracy_score, confusion_matrix, precision_score, recall_score, ConfusionMatrixDisplay\n",
    "from sklearn.model_selection import RandomizedSearchCV, train_test_split\n",
    "from scipy.stats import randint"
   ]
  },
  {
   "cell_type": "code",
   "execution_count": 12,
   "metadata": {
    "id": "KRXNkqQYUSKY"
   },
   "outputs": [
    {
     "data": {
      "text/plain": [
       "accuracy             0.899781\n",
       "balanced accuracy    0.520637\n",
       "precision            0.500000\n",
       "recall               0.046448\n",
       "dtype: float64"
      ]
     },
     "execution_count": 12,
     "metadata": {},
     "output_type": "execute_result"
    }
   ],
   "source": [
    "# Calculate performance metrics\n",
    "accuracy = accuracy_score(y_test, y_pred)\n",
    "balanced_acc = balanced_accuracy_score(y_test, y_pred)\n",
    "precision = precision_score(y_test, y_pred)\n",
    "recall = recall_score(y_test, y_pred)\n",
    "\n",
    "# Series for model A\n",
    "ser = pd.Series({\n",
    "    'accuracy': accuracy,\n",
    "    'balanced accuracy': balanced_acc,\n",
    "    'precision': precision,\n",
    "    'recall': recall\n",
    "})\n",
    "ser"
   ]
  },
  {
   "cell_type": "markdown",
   "metadata": {},
   "source": [
    "### Fine Tuning\n",
    "We'll take the model and fine tune the hyperparameters using RandomizedSearchCV. We'll also plot the confusion matrix so we can see the ratio between false negatives and false positives."
   ]
  },
  {
   "cell_type": "code",
   "execution_count": 13,
   "metadata": {},
   "outputs": [],
   "source": [
    "param_range = {'n_estimators': randint(50, 150),\n",
    "               'max_depth': randint(1,22)}\n",
    "\n",
    "# Random forest classifier\n",
    "rf_rand = RandomForestClassifier()\n",
    "\n",
    "# Use random search to find best hyperparameter\n",
    "rand_search = RandomizedSearchCV(rf_rand, param_distributions = param_range, n_iter = 5, cv = 5)\n",
    "\n",
    "# Fit the random search object to the data\n",
    "rand_search.fit(X_features, y_train)\n",
    "\n",
    "# Best model\n",
    "best_rand = rand_search.best_estimator_\n",
    "\n",
    "# Predict using the best model\n",
    "y_pred_rand = best_rand.predict(X_test_feat)\n",
    "\n",
    "# Create confusion matrix\n",
    "conf_matrix = confusion_matrix(y_test, y_pred_rand)"
   ]
  },
  {
   "cell_type": "code",
   "execution_count": 14,
   "metadata": {},
   "outputs": [
    {
     "data": {
      "text/plain": [
       "accuracy             0.900602\n",
       "balanced accuracy    0.513810\n",
       "precision            0.578947\n",
       "recall               0.030055\n",
       "dtype: float64"
      ]
     },
     "execution_count": 14,
     "metadata": {},
     "output_type": "execute_result"
    }
   ],
   "source": [
    "# Evaluate the best model\n",
    "ser_rand = pd.Series({\n",
    "    'accuracy': accuracy_score(y_test, y_pred_rand),\n",
    "    'balanced accuracy': balanced_accuracy_score(y_test, y_pred_rand),\n",
    "    'precision': precision_score(y_test, y_pred_rand),\n",
    "    'recall': recall_score(y_test, y_pred_rand)\n",
    "})\n",
    "ser_rand"
   ]
  },
  {
   "cell_type": "markdown",
   "metadata": {},
   "source": [
    "Accuracy and precision increased slightly, but recall and balanced accuracy decreased. \n",
    "\n",
    "By looking at the confusion matrix below, we can see that there are still quite a few false positives. "
   ]
  },
  {
   "cell_type": "code",
   "execution_count": 15,
   "metadata": {},
   "outputs": [
    {
     "data": {
      "text/plain": [
       "<sklearn.metrics._plot.confusion_matrix.ConfusionMatrixDisplay at 0x2a0eb0e5f00>"
      ]
     },
     "execution_count": 15,
     "metadata": {},
     "output_type": "execute_result"
    },
    {
     "data": {
      "image/png": "[encoded data removed]",
      "text/plain": [
       "<Figure size 640x480 with 2 Axes>"
      ]
     },
     "metadata": {},
     "output_type": "display_data"
    }
   ],
   "source": [
    "# plot confusion matrix\n",
    "ConfusionMatrixDisplay(confusion_matrix = conf_matrix).plot()"
   ]
  },
  {
   "cell_type": "markdown",
   "metadata": {},
   "source": [
    "### Importance of Each Feature\n",
    "We can plot the importance of each feature, which tells us that the attribute for forecasted electricity consumption for the next 12 months was the greatest predictor in whether or not a cusomer churned. The net margin on power subscription was a close second."
   ]
  },
  {
   "cell_type": "code",
   "execution_count": 16,
   "metadata": {},
   "outputs": [
    {
     "data": {
      "text/plain": [
       "<Axes: >"
      ]
     },
     "execution_count": 16,
     "metadata": {},
     "output_type": "execute_result"
    },
    {
     "data": {
      "image/png": "[encoded data removed]",
      "text/plain": [
       "<Figure size 640x480 with 1 Axes>"
      ]
     },
     "metadata": {},
     "output_type": "display_data"
    }
   ],
   "source": [
    "# Create Series with importance of each feature\n",
    "feat_imp = pd.Series(best_rand.feature_importances_, index = X_features.columns).sort_values()\n",
    "\n",
    "# Create Horizontal Bar chart\n",
    "feat_imp.plot(\n",
    "    kind = 'barh'\n",
    ")"
   ]
  },
  {
   "cell_type": "markdown",
   "metadata": {},
   "source": [
    "We see that the two best predictors of churn are a client's forecasted consumption over 12 months, and net margin of electric power."
   ]
  }
 ],
 "metadata": {
  "colab": {
   "provenance": []
  },
  "interpreter": {
   "hash": "152bf6e7dc8ee53edb5af21dc1a8faeab7f134840808a94079ed98d91ece7e0c"
  },
  "kernelspec": {
   "display_name": "Python 3 (ipykernel)",
   "language": "python",
   "name": "python3"
  },
  "language_info": {
   "codemirror_mode": {
    "name": "ipython",
    "version": 3
   },
   "file_extension": ".py",
   "mimetype": "text/x-python",
   "name": "python",
   "nbconvert_exporter": "python",
   "pygments_lexer": "ipython3",
   "version": "3.10.13"
  }
 },
 "nbformat": 4,
 "nbformat_minor": 4
}
